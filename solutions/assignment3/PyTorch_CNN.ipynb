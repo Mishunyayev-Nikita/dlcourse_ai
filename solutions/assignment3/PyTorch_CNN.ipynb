{
 "cells": [
  {
   "cell_type": "markdown",
   "metadata": {},
   "source": [
    "# Задание 3.2 - сверточные нейронные сети (CNNs) в PyTorch\n",
    "\n",
    "Это упражнение мы буде выполнять в Google Colab - https://colab.research.google.com/  \n",
    "Google Colab позволяет запускать код в notebook в облаке Google, где можно воспользоваться бесплатным GPU!  \n",
    "\n",
    "Авторы курса благодарят компанию Google и надеятся, что праздник не закончится.\n",
    "\n",
    "Туториал по настройке Google Colab:  \n",
    "https://medium.com/deep-learning-turkey/google-colab-free-gpu-tutorial-e113627b9f5d  \n",
    "(Keras инсталлировать не нужно, наш notebook сам установит PyTorch)\n"
   ]
  },
  {
   "cell_type": "code",
   "execution_count": 1,
   "metadata": {
    "colab": {},
    "colab_type": "code",
    "id": "FcXBeP1O7cnY"
   },
   "outputs": [],
   "source": [
    "# Intstall PyTorch and download data\n",
    "#!pip3 install torch torchvision\n",
    "\n",
    "#!wget -c http://ufldl.stanford.edu/housenumbers/train_32x32.mat http://ufldl.stanford.edu/housenumbers/test_32x32.mat"
   ]
  },
  {
   "cell_type": "code",
   "execution_count": 2,
   "metadata": {
    "colab": {},
    "colab_type": "code",
    "id": "-afwWw-Q85vD"
   },
   "outputs": [],
   "source": [
    "from collections import namedtuple\n",
    "\n",
    "import matplotlib.pyplot as plt\n",
    "import numpy as np\n",
    "import PIL\n",
    "import torch\n",
    "import torch.nn as nn\n",
    "import torch.optim as optim\n",
    "import torchvision.datasets as dset\n",
    "from torch.utils.data.sampler import SubsetRandomSampler\n",
    "\n",
    "from torchvision import transforms"
   ]
  },
  {
   "cell_type": "code",
   "execution_count": 3,
   "metadata": {
    "colab": {},
    "colab_type": "code",
    "id": "NNU-OD9O9ltP"
   },
   "outputs": [],
   "source": [
    "device = torch.device(\"cuda:0\") # Let's make sure GPU is available!"
   ]
  },
  {
   "cell_type": "code",
   "execution_count": 4,
   "metadata": {},
   "outputs": [],
   "source": [
    "PATH_TO_DATA = 'D:/Py/DataFrames/dlcourse_ai/SVHN'"
   ]
  },
  {
   "cell_type": "markdown",
   "metadata": {},
   "source": [
    "# Загружаем данные"
   ]
  },
  {
   "cell_type": "code",
   "execution_count": 5,
   "metadata": {
    "colab": {},
    "colab_type": "code",
    "id": "YAvkoRx-9FsP"
   },
   "outputs": [],
   "source": [
    "# First, lets load the dataset\n",
    "data_train = dset.SVHN(PATH_TO_DATA, \n",
    "                       transform=transforms.Compose([\n",
    "                           transforms.ToTensor(),\n",
    "                           transforms.Normalize(mean=[0.43,0.44,0.47],\n",
    "                                               std=[0.20,0.20,0.20])                           \n",
    "                       ])\n",
    "                      )\n",
    "data_test = dset.SVHN(PATH_TO_DATA, split='test',\n",
    "                      transform=transforms.Compose([\n",
    "                           transforms.ToTensor(),\n",
    "                           transforms.Normalize(mean=[0.43,0.44,0.47],\n",
    "                                               std=[0.20,0.20,0.20])                           \n",
    "                       ]))"
   ]
  },
  {
   "cell_type": "markdown",
   "metadata": {},
   "source": [
    "Разделяем данные на training и validation.\n",
    "\n",
    "На всякий случай для подробностей - https://pytorch.org/tutorials/beginner/data_loading_tutorial.html"
   ]
  },
  {
   "cell_type": "code",
   "execution_count": 6,
   "metadata": {
    "colab": {},
    "colab_type": "code",
    "id": "YRnr8CPg7Hli"
   },
   "outputs": [],
   "source": [
    "batch_size = 64\n",
    "\n",
    "data_size = data_train.data.shape[0]\n",
    "validation_split = .2\n",
    "split = int(np.floor(validation_split * data_size))\n",
    "indices = list(range(data_size))\n",
    "np.random.shuffle(indices)\n",
    "\n",
    "train_indices, val_indices = indices[split:], indices[:split]\n",
    "\n",
    "train_sampler = SubsetRandomSampler(train_indices)\n",
    "val_sampler = SubsetRandomSampler(val_indices)\n",
    "\n",
    "train_loader = torch.utils.data.DataLoader(data_train, batch_size=batch_size, \n",
    "                                           sampler=train_sampler)\n",
    "val_loader = torch.utils.data.DataLoader(data_train, batch_size=batch_size,\n",
    "                                         sampler=val_sampler)"
   ]
  },
  {
   "cell_type": "code",
   "execution_count": 7,
   "metadata": {
    "colab": {},
    "colab_type": "code",
    "id": "LyYvt-T67PBG"
   },
   "outputs": [],
   "source": [
    "# We'll use a special helper module to shape it into a flat tensor\n",
    "class Flattener(nn.Module):\n",
    "    def forward(self, x):\n",
    "        batch_size, *_ = x.shape\n",
    "        return x.view(batch_size, -1)"
   ]
  },
  {
   "cell_type": "markdown",
   "metadata": {},
   "source": [
    "Создадим простейшую сеть с новыми слоями:  \n",
    "Convolutional - `nn.Conv2d`  \n",
    "MaxPool - `nn.MaxPool2d`"
   ]
  },
  {
   "cell_type": "code",
   "execution_count": 8,
   "metadata": {
    "colab": {},
    "colab_type": "code",
    "id": "w9SFVGZP7SQd"
   },
   "outputs": [],
   "source": [
    "nn_model = nn.Sequential(\n",
    "            nn.Conv2d(3, 64, 3, padding=1),\n",
    "            nn.ReLU(inplace=True),\n",
    "            nn.MaxPool2d(4),\n",
    "            nn.Conv2d(64, 64, 3, padding=1),\n",
    "            nn.ReLU(inplace=True),\n",
    "            nn.MaxPool2d(4),    \n",
    "            Flattener(),\n",
    "            nn.Linear(64*2*2, 10),\n",
    "          )\n",
    "\n",
    "nn_model.type(torch.cuda.FloatTensor)\n",
    "nn_model.to(device)\n",
    "\n",
    "loss = nn.CrossEntropyLoss().type(torch.cuda.FloatTensor)\n",
    "optimizer = optim.SGD(nn_model.parameters(), lr=1e-1, weight_decay=1e-4)"
   ]
  },
  {
   "cell_type": "markdown",
   "metadata": {},
   "source": [
    "Восстановите функцию `compute_accuracy` из прошлого задания.  \n",
    "Единственное отличие в новом - она должна передать данные на GPU прежде чем прогонять через модель. Сделайте это так же, как это делает функция `train_model`"
   ]
  },
  {
   "cell_type": "code",
   "execution_count": 9,
   "metadata": {},
   "outputs": [],
   "source": [
    "def compute_accuracy(model, loader):\n",
    "    \"\"\"\n",
    "    Computes accuracy on the dataset wrapped in a loader\n",
    "    \n",
    "    Returns: accuracy as a float value between 0 and 1\n",
    "    \"\"\"\n",
    "    model.eval() # Evaluation mode\n",
    "    # TODO: Copy implementation from previous assignment\n",
    "    # Don't forget to move the data to device before running it through the model!\n",
    "    correct_samples = 0\n",
    "    total_samples = 0\n",
    "    \n",
    "    for (x, y) in loader:\n",
    "        x_gpu, y_gpu = x.to(device), y.to(device)\n",
    "        prediction = model(x_gpu)\n",
    "        indices = torch.argmax(prediction, 1)\n",
    "        correct_samples += torch.sum(indices == y_gpu)\n",
    "        total_samples += y_gpu.shape[0]\n",
    "        \n",
    "    accuracy = float(correct_samples) / total_samples\n",
    "    \n",
    "    return accuracy"
   ]
  },
  {
   "cell_type": "code",
   "execution_count": 10,
   "metadata": {
    "colab": {},
    "colab_type": "code",
    "id": "2ek3KVQK7hJ6"
   },
   "outputs": [],
   "source": [
    "def train_model(model, train_loader, val_loader, loss, optimizer, num_epochs):    \n",
    "    loss_history = []\n",
    "    train_history = []\n",
    "    val_history = []\n",
    "    for epoch in range(num_epochs):\n",
    "        model.train() # Enter train mode\n",
    "        \n",
    "        loss_accum = 0\n",
    "        correct_samples = 0\n",
    "        total_samples = 0\n",
    "        for i_step, (x, y) in enumerate(train_loader):\n",
    "          \n",
    "            x_gpu = x.to(device)\n",
    "            y_gpu = y.to(device)\n",
    "            prediction = model(x_gpu)    \n",
    "            loss_value = loss(prediction, y_gpu)\n",
    "            optimizer.zero_grad()\n",
    "            loss_value.backward()\n",
    "            optimizer.step()\n",
    "            \n",
    "            _, indices = torch.max(prediction, 1)\n",
    "            correct_samples += torch.sum(indices == y_gpu)\n",
    "            total_samples += y.shape[0]\n",
    "            \n",
    "            loss_accum += loss_value\n",
    "\n",
    "        ave_loss = loss_accum / i_step\n",
    "        train_accuracy = float(correct_samples) / total_samples\n",
    "        val_accuracy = compute_accuracy(model, val_loader)\n",
    "        \n",
    "        loss_history.append(float(ave_loss))\n",
    "        train_history.append(train_accuracy)\n",
    "        val_history.append(val_accuracy)\n",
    "        \n",
    "        print(\"Average loss: %f, Train accuracy: %f, Val accuracy: %f\" % (ave_loss, train_accuracy, val_accuracy))\n",
    "        \n",
    "    return loss_history, train_history, val_history"
   ]
  },
  {
   "cell_type": "code",
   "execution_count": 11,
   "metadata": {},
   "outputs": [
    {
     "name": "stdout",
     "output_type": "stream",
     "text": [
      "Average loss: 1.395344, Train accuracy: 0.531498, Val accuracy: 0.768343\n",
      "Average loss: 0.677436, Train accuracy: 0.795550, Val accuracy: 0.805542\n",
      "Average loss: 0.577856, Train accuracy: 0.825905, Val accuracy: 0.821719\n",
      "Average loss: 0.532173, Train accuracy: 0.840818, Val accuracy: 0.846836\n",
      "Average loss: 0.500289, Train accuracy: 0.850681, Val accuracy: 0.848748\n"
     ]
    }
   ],
   "source": [
    "loss_history, train_history, val_history = train_model(nn_model, train_loader, val_loader, loss, optimizer, 5)"
   ]
  },
  {
   "cell_type": "markdown",
   "metadata": {
    "colab_type": "text",
    "id": "6a-3a1ZFGEw_"
   },
   "source": [
    "# Аугментация данных (Data augmentation)\n",
    "\n",
    "В работе с изображениями одним из особенно важных методов является аугментация данных - то есть, генерация дополнительных данных для тренировки на основе изначальных.   \n",
    "Таким образом, мы получаем возможность \"увеличить\" набор данных для тренировки, что ведет к лучшей работе сети.\n",
    "Важно, чтобы аугментированные данные были похожи на те, которые могут встретиться в реальной жизни, иначе польза от аугментаций уменьшается и может ухудшить работу сети.\n",
    "\n",
    "С PyTorch идут несколько таких алгоритмов, называемых `transforms`. Более подробно про них можно прочитать тут -\n",
    "https://pytorch.org/tutorials/beginner/data_loading_tutorial.html#transforms\n",
    "\n",
    "Ниже мы используем следующие алгоритмы генерации:\n",
    "- ColorJitter - случайное изменение цвета\n",
    "- RandomHorizontalFlip - горизонтальное отражение с вероятностью 50%\n",
    "- RandomVerticalFlip - вертикальное отражение с вероятностью 50%\n",
    "- RandomRotation - случайный поворот"
   ]
  },
  {
   "cell_type": "code",
   "execution_count": 12,
   "metadata": {
    "colab": {},
    "colab_type": "code",
    "id": "jCWMUWmr7t5g"
   },
   "outputs": [],
   "source": [
    "tfs = transforms.Compose([\n",
    "    transforms.ColorJitter(hue=.50, saturation=.50),\n",
    "    transforms.RandomHorizontalFlip(),\n",
    "    transforms.RandomVerticalFlip(),\n",
    "    transforms.RandomRotation(50, resample=PIL.Image.BILINEAR),\n",
    "    transforms.ToTensor(),\n",
    "    transforms.Normalize(mean=[0.43,0.44,0.47], std=[0.20,0.20,0.20])                           \n",
    "])\n",
    "\n",
    "# Create augmented train dataset\n",
    "data_aug_train = dset.SVHN(PATH_TO_DATA, transform=tfs)\n",
    "\n",
    "train_aug_loader = torch.utils.data.DataLoader(data_aug_train, batch_size=batch_size,\n",
    "                                               sampler=train_sampler)"
   ]
  },
  {
   "cell_type": "markdown",
   "metadata": {},
   "source": [
    "Визуализируем результаты агментации (вообще, смотреть на сгенерированные данные всегда очень полезно)."
   ]
  },
  {
   "cell_type": "code",
   "execution_count": 13,
   "metadata": {
    "colab": {},
    "colab_type": "code",
    "id": "YlJJEro1KZ45"
   },
   "outputs": [
    {
     "data": {
      "image/png": "[encoded data removed]",
      "text/plain": [
       "<Figure size 2160x216 with 10 Axes>"
      ]
     },
     "metadata": {
      "needs_background": "light"
     },
     "output_type": "display_data"
    }
   ],
   "source": [
    "# TODO: Visualize some augmented images!\n",
    "# hint: you can create new datasets and loaders to accomplish this\n",
    "\n",
    "# Based on the visualizations, should we keep all the augmentations?\n",
    "\n",
    "tfs = transforms.Compose([\n",
    "    transforms.ColorJitter(hue=.20, saturation=.20),\n",
    "    transforms.RandomHorizontalFlip(),\n",
    "    transforms.RandomVerticalFlip(),\n",
    "    transforms.RandomRotation(10, resample=PIL.Image.BILINEAR),\n",
    "])\n",
    "\n",
    "data_aug_vis = dset.SVHN(PATH_TO_DATA, transform=tfs)\n",
    "\n",
    "plt.figure(figsize=(30, 3))\n",
    "\n",
    "for i, (x, y) in enumerate(data_aug_vis):\n",
    "    if i == 10:\n",
    "        break\n",
    "    plt.subplot(1, 10, i+1)\n",
    "    plt.grid(False)\n",
    "    plt.imshow(x)\n",
    "    plt.axis('off')"
   ]
  },
  {
   "cell_type": "markdown",
   "metadata": {
    "colab_type": "text",
    "id": "o2LrmsYHoguB"
   },
   "source": [
    "Все ли агментации одинаково полезны на этом наборе данных? Могут ли быть среди них те, которые собьют модель с толку?\n",
    "\n",
    "Выберите из них только корректные"
   ]
  },
  {
   "cell_type": "code",
   "execution_count": 14,
   "metadata": {},
   "outputs": [
    {
     "data": {
      "image/png": "[encoded data removed]",
      "text/plain": [
       "<Figure size 2160x216 with 10 Axes>"
      ]
     },
     "metadata": {
      "needs_background": "light"
     },
     "output_type": "display_data"
    }
   ],
   "source": [
    "# TODO: Add good augmentations\n",
    "tfs_for_vis = transforms.Compose([\n",
    "    transforms.ColorJitter(hue=.50, saturation=.50, brightness=0.50, contrast=0.50),\n",
    "    transforms.RandomRotation(10, resample=PIL.Image.BILINEAR),\n",
    "])\n",
    "\n",
    "train_aug_vis = dset.SVHN(PATH_TO_DATA, transform=tfs_for_vis)\n",
    "\n",
    "plt.figure(figsize=(30, 3))\n",
    "\n",
    "for i, (x, y) in enumerate(train_aug_vis):\n",
    "    if i == 10:\n",
    "        break\n",
    "    plt.subplot(1, 10, i+1)\n",
    "    plt.grid(False)\n",
    "    plt.imshow(x)\n",
    "    plt.axis('off')"
   ]
  },
  {
   "cell_type": "code",
   "execution_count": 15,
   "metadata": {
    "colab": {},
    "colab_type": "code",
    "id": "evro9ksXGs9u"
   },
   "outputs": [],
   "source": [
    "tfs_for_train = transforms.Compose([\n",
    "    transforms.ColorJitter(hue=.50, saturation=.50, brightness=0.50, contrast=0.50),\n",
    "    transforms.RandomRotation(10, resample=PIL.Image.BILINEAR),\n",
    "    transforms.ToTensor(),\n",
    "    transforms.Normalize(mean=[0.43,0.44,0.47], std=[0.20,0.20,0.20])                           \n",
    "])\n",
    "\n",
    "# TODO create new instances of loaders with the augmentations you chose\n",
    "train_aug_data = dset.SVHN(PATH_TO_DATA, transform=tfs_for_train)\n",
    "train_aug_loader = torch.utils.data.DataLoader(train_aug_data, batch_size=batch_size, \n",
    "                                               sampler=train_sampler)"
   ]
  },
  {
   "cell_type": "code",
   "execution_count": 16,
   "metadata": {
    "colab": {},
    "colab_type": "code",
    "id": "PeO6Zw0DHqPR"
   },
   "outputs": [
    {
     "name": "stdout",
     "output_type": "stream",
     "text": [
      "Average loss: 0.732077, Train accuracy: 0.779647, Val accuracy: 0.797488\n",
      "Average loss: 0.669341, Train accuracy: 0.800003, Val accuracy: 0.832571\n",
      "Average loss: 0.642685, Train accuracy: 0.807221, Val accuracy: 0.836803\n",
      "Average loss: 0.617968, Train accuracy: 0.812664, Val accuracy: 0.846700\n",
      "Average loss: 0.603428, Train accuracy: 0.819711, Val accuracy: 0.833731\n"
     ]
    }
   ],
   "source": [
    "# Finally, let's train with augmentations!\n",
    "# Note we shouldn't use augmentations on validation\n",
    "\n",
    "loss_history, train_history, val_history = train_model(nn_model, train_aug_loader, val_loader, loss, optimizer, 5)"
   ]
  },
  {
   "attachments": {},
   "cell_type": "markdown",
   "metadata": {
    "colab_type": "text",
    "id": "r0bcioK6JBDK"
   },
   "source": [
    "# LeNet\n",
    "Попробуем имплементировать классическую архитектуру сверточной нейронной сети, предложенную Яном ЛеКуном в 1998 году. В свое время она достигла впечатляющих результатов на MNIST, посмотрим как она справится с SVHN?\n",
    "Она описана в статье [\"Gradient Based Learning Applied to Document Recognition\"](http://yann.lecun.com/exdb/publis/pdf/lecun-01a.pdf), попробуйте прочитать ключевые части и имплементировать предложенную архитетуру на PyTorch.\n",
    "\n",
    "Реализовывать слои и функцию ошибки LeNet, которых нет в PyTorch, **не нужно** - просто возьмите их размеры и переведите в уже известные нам Convolutional, Pooling и Fully Connected layers.\n",
    "\n",
    "Если в статье не очень понятно, можно просто погуглить LeNet и разобраться в деталях :)"
   ]
  },
  {
   "cell_type": "code",
   "execution_count": 17,
   "metadata": {
    "colab": {},
    "colab_type": "code",
    "id": "ieEzZUglJAUB"
   },
   "outputs": [],
   "source": [
    "# TODO: Implement LeNet-like architecture for SVHN task\n",
    "lenet_model = nn.Sequential(\n",
    "                nn.Conv2d(3, 6, 5),\n",
    "                nn.ReLU(inplace=True),\n",
    "                nn.MaxPool2d(2),\n",
    "                nn.Conv2d(6, 16, 5),\n",
    "                nn.ReLU(inplace=True),\n",
    "                nn.MaxPool2d(2),    \n",
    "                Flattener(),\n",
    "                nn.Linear(400, 120),\n",
    "                nn.ReLU(inplace=True),\n",
    "                nn.Linear(120, 84),\n",
    "                nn.ReLU(inplace=True),\n",
    "                nn.Linear(84, 10),\n",
    "                nn.LogSoftmax(dim=-1)\n",
    "          )\n",
    "\n",
    "lenet_model.type(torch.cuda.FloatTensor)\n",
    "lenet_model.to(device)\n",
    "\n",
    "loss = nn.CrossEntropyLoss().type(torch.cuda.FloatTensor)\n",
    "optimizer = optim.SGD(lenet_model.parameters(), lr=1e-1, weight_decay=1e-4)"
   ]
  },
  {
   "cell_type": "code",
   "execution_count": 18,
   "metadata": {
    "colab": {},
    "colab_type": "code",
    "id": "WMmaPfdeKk9H"
   },
   "outputs": [
    {
     "name": "stdout",
     "output_type": "stream",
     "text": [
      "Average loss: 1.466235, Train accuracy: 0.504112, Val accuracy: 0.827384\n",
      "Average loss: 0.617786, Train accuracy: 0.817305, Val accuracy: 0.867995\n",
      "Average loss: 0.519510, Train accuracy: 0.844538, Val accuracy: 0.876322\n",
      "Average loss: 0.460318, Train accuracy: 0.861550, Val accuracy: 0.890110\n",
      "Average loss: 0.427336, Train accuracy: 0.871976, Val accuracy: 0.872022\n",
      "Average loss: 0.403514, Train accuracy: 0.879722, Val accuracy: 0.889223\n",
      "Average loss: 0.383770, Train accuracy: 0.884722, Val accuracy: 0.898642\n",
      "Average loss: 0.366377, Train accuracy: 0.889994, Val accuracy: 0.894683\n",
      "Average loss: 0.354354, Train accuracy: 0.892622, Val accuracy: 0.897686\n",
      "Average loss: 0.341238, Train accuracy: 0.897724, Val accuracy: 0.897072\n"
     ]
    }
   ],
   "source": [
    "# Let's train it!\n",
    "loss_history, train_history, val_history = train_model(lenet_model, train_aug_loader, val_loader, loss, optimizer, 10)"
   ]
  },
  {
   "cell_type": "markdown",
   "metadata": {
    "colab_type": "text",
    "id": "u_O9qiYySvuj"
   },
   "source": [
    "# Подбор гиперпараметров"
   ]
  },
  {
   "cell_type": "code",
   "execution_count": 21,
   "metadata": {
    "colab": {},
    "colab_type": "code",
    "id": "i6mhfdQ9K-N3"
   },
   "outputs": [
    {
     "name": "stdout",
     "output_type": "stream",
     "text": [
      "Cycle: 1 | LR: 1.0 | REG: 0.001\n",
      "Average loss: 2.297992, Train accuracy: 0.188155, Val accuracy: 0.186335\n",
      "Average loss: 2.241984, Train accuracy: 0.188735, Val accuracy: 0.186335\n",
      "Average loss: 2.242030, Train accuracy: 0.189230, Val accuracy: 0.186335\n",
      "Average loss: 2.241985, Train accuracy: 0.189520, Val accuracy: 0.186335\n",
      "Average loss: 2.242130, Train accuracy: 0.189281, Val accuracy: 0.186335\n",
      "Cycle: 2 | LR: 1.0 | REG: 0.0001\n",
      "Average loss: 2.200732, Train accuracy: 0.217435, Val accuracy: 0.209542\n",
      "Average loss: 2.262473, Train accuracy: 0.191277, Val accuracy: 0.186335\n",
      "Average loss: 2.241905, Train accuracy: 0.189264, Val accuracy: 0.186335\n",
      "Average loss: 2.264164, Train accuracy: 0.189264, Val accuracy: 0.186335\n",
      "Average loss: 2.241962, Train accuracy: 0.189469, Val accuracy: 0.186335\n",
      "Cycle: 3 | LR: 1.0 | REG: 1e-05\n",
      "Average loss: 2.269503, Train accuracy: 0.189793, Val accuracy: 0.186335\n",
      "Average loss: 2.243846, Train accuracy: 0.189520, Val accuracy: 0.186335\n",
      "Average loss: 2.248974, Train accuracy: 0.189332, Val accuracy: 0.186335\n",
      "Average loss: 2.235904, Train accuracy: 0.193274, Val accuracy: 0.209406\n",
      "Average loss: 2.189953, Train accuracy: 0.229055, Val accuracy: 0.221145\n",
      "Cycle: 4 | LR: 1.0 | REG: 1e-07\n",
      "Average loss: 2.252138, Train accuracy: 0.191141, Val accuracy: 0.186335\n",
      "Average loss: 2.242054, Train accuracy: 0.189315, Val accuracy: 0.186335\n",
      "Average loss: 2.242119, Train accuracy: 0.189366, Val accuracy: 0.186335\n",
      "Average loss: 2.241915, Train accuracy: 0.188854, Val accuracy: 0.186335\n",
      "Average loss: 2.251801, Train accuracy: 0.189076, Val accuracy: 0.200669\n",
      "Cycle: 5 | LR: 0.1 | REG: 0.001\n",
      "Average loss: 1.634510, Train accuracy: 0.439511, Val accuracy: 0.802744\n",
      "Average loss: 0.638146, Train accuracy: 0.808979, Val accuracy: 0.849908\n",
      "Average loss: 0.524695, Train accuracy: 0.843344, Val accuracy: 0.863354\n",
      "Average loss: 0.478851, Train accuracy: 0.857574, Val accuracy: 0.877141\n",
      "Average loss: 0.446797, Train accuracy: 0.866703, Val accuracy: 0.858235\n",
      "Cycle: 6 | LR: 0.1 | REG: 0.0001\n",
      "Average loss: 1.386350, Train accuracy: 0.535747, Val accuracy: 0.795782\n",
      "Average loss: 0.600469, Train accuracy: 0.823755, Val accuracy: 0.846017\n",
      "Average loss: 0.502009, Train accuracy: 0.850203, Val accuracy: 0.876459\n",
      "Average loss: 0.454564, Train accuracy: 0.865935, Val accuracy: 0.861375\n",
      "Average loss: 0.419529, Train accuracy: 0.876020, Val accuracy: 0.870930\n",
      "Cycle: 7 | LR: 0.1 | REG: 1e-05\n",
      "Average loss: 1.712769, Train accuracy: 0.409378, Val accuracy: 0.795509\n",
      "Average loss: 0.671007, Train accuracy: 0.802119, Val accuracy: 0.846495\n",
      "Average loss: 0.535978, Train accuracy: 0.840051, Val accuracy: 0.855163\n",
      "Average loss: 0.470479, Train accuracy: 0.857540, Val accuracy: 0.852775\n",
      "Average loss: 0.434097, Train accuracy: 0.868273, Val accuracy: 0.883489\n",
      "Cycle: 8 | LR: 0.1 | REG: 1e-07\n",
      "Average loss: 1.541860, Train accuracy: 0.473518, Val accuracy: 0.808750\n",
      "Average loss: 0.638147, Train accuracy: 0.810975, Val accuracy: 0.854754\n",
      "Average loss: 0.521427, Train accuracy: 0.845118, Val accuracy: 0.864787\n",
      "Average loss: 0.474225, Train accuracy: 0.859093, Val accuracy: 0.871886\n",
      "Average loss: 0.437333, Train accuracy: 0.868972, Val accuracy: 0.877483\n",
      "Cycle: 9 | LR: 0.01 | REG: 0.001\n",
      "Average loss: 2.250696, Train accuracy: 0.181074, Val accuracy: 0.186335\n",
      "Average loss: 2.233118, Train accuracy: 0.190032, Val accuracy: 0.186404\n",
      "Average loss: 2.179787, Train accuracy: 0.219158, Val accuracy: 0.256228\n",
      "Average loss: 1.586925, Train accuracy: 0.480838, Val accuracy: 0.709030\n",
      "Average loss: 0.909547, Train accuracy: 0.733901, Val accuracy: 0.799468\n",
      "Cycle: 10 | LR: 0.01 | REG: 0.0001\n",
      "Average loss: 2.256564, Train accuracy: 0.178702, Val accuracy: 0.186335\n",
      "Average loss: 2.236410, Train accuracy: 0.189929, Val accuracy: 0.186335\n",
      "Average loss: 2.226859, Train accuracy: 0.190424, Val accuracy: 0.190908\n",
      "Average loss: 2.060221, Train accuracy: 0.273675, Val accuracy: 0.460856\n",
      "Average loss: 1.275793, Train accuracy: 0.598744, Val accuracy: 0.735172\n",
      "Cycle: 11 | LR: 0.01 | REG: 1e-05\n",
      "Average loss: 2.254792, Train accuracy: 0.177797, Val accuracy: 0.186335\n",
      "Average loss: 2.234787, Train accuracy: 0.189963, Val accuracy: 0.188656\n",
      "Average loss: 2.194760, Train accuracy: 0.208102, Val accuracy: 0.244011\n",
      "Average loss: 1.788815, Train accuracy: 0.397468, Val accuracy: 0.598594\n",
      "Average loss: 1.068418, Train accuracy: 0.679640, Val accuracy: 0.772370\n",
      "Cycle: 12 | LR: 0.01 | REG: 1e-07\n",
      "Average loss: 2.259417, Train accuracy: 0.175972, Val accuracy: 0.186335\n",
      "Average loss: 2.233337, Train accuracy: 0.189929, Val accuracy: 0.186335\n",
      "Average loss: 2.176133, Train accuracy: 0.217060, Val accuracy: 0.314723\n",
      "Average loss: 1.607279, Train accuracy: 0.479831, Val accuracy: 0.668282\n",
      "Average loss: 0.979018, Train accuracy: 0.711378, Val accuracy: 0.775510\n",
      "Cycle: 13 | LR: 0.001 | REG: 0.001\n",
      "Average loss: 2.291481, Train accuracy: 0.144524, Val accuracy: 0.144154\n",
      "Average loss: 2.270090, Train accuracy: 0.165563, Val accuracy: 0.188520\n",
      "Average loss: 2.254902, Train accuracy: 0.190219, Val accuracy: 0.186335\n",
      "Average loss: 2.245844, Train accuracy: 0.189929, Val accuracy: 0.186335\n",
      "Average loss: 2.241606, Train accuracy: 0.189929, Val accuracy: 0.186335\n",
      "Cycle: 14 | LR: 0.001 | REG: 0.0001\n",
      "Average loss: 2.296982, Train accuracy: 0.172849, Val accuracy: 0.186472\n",
      "Average loss: 2.276941, Train accuracy: 0.189929, Val accuracy: 0.186335\n",
      "Average loss: 2.262495, Train accuracy: 0.189929, Val accuracy: 0.186335\n",
      "Average loss: 2.255741, Train accuracy: 0.189929, Val accuracy: 0.186335\n",
      "Average loss: 2.251577, Train accuracy: 0.189929, Val accuracy: 0.186335\n",
      "Cycle: 15 | LR: 0.001 | REG: 1e-05\n",
      "Average loss: 2.290150, Train accuracy: 0.175767, Val accuracy: 0.186335\n",
      "Average loss: 2.258758, Train accuracy: 0.189929, Val accuracy: 0.186335\n",
      "Average loss: 2.246050, Train accuracy: 0.189929, Val accuracy: 0.186335\n",
      "Average loss: 2.243182, Train accuracy: 0.189929, Val accuracy: 0.186335\n",
      "Average loss: 2.241167, Train accuracy: 0.189929, Val accuracy: 0.186335\n",
      "Cycle: 16 | LR: 0.001 | REG: 1e-07\n",
      "Average loss: 2.304724, Train accuracy: 0.137921, Val accuracy: 0.144086\n",
      "Average loss: 2.280834, Train accuracy: 0.151708, Val accuracy: 0.165586\n",
      "Average loss: 2.257669, Train accuracy: 0.186039, Val accuracy: 0.186335\n",
      "Average loss: 2.244069, Train accuracy: 0.189929, Val accuracy: 0.186335\n",
      "Average loss: 2.240347, Train accuracy: 0.189929, Val accuracy: 0.186335\n",
      "Cycle: 17 | LR: 0.0001 | REG: 0.001\n",
      "Average loss: 2.303388, Train accuracy: 0.067416, Val accuracy: 0.075080\n",
      "Average loss: 2.301296, Train accuracy: 0.069873, Val accuracy: 0.080199\n",
      "Average loss: 2.299164, Train accuracy: 0.115039, Val accuracy: 0.156235\n",
      "Average loss: 2.297121, Train accuracy: 0.174317, Val accuracy: 0.184697\n",
      "Average loss: 2.295173, Train accuracy: 0.188650, Val accuracy: 0.186199\n",
      "Cycle: 18 | LR: 0.0001 | REG: 0.0001\n",
      "Average loss: 2.299999, Train accuracy: 0.184026, Val accuracy: 0.186472\n",
      "Average loss: 2.297632, Train accuracy: 0.189588, Val accuracy: 0.186335\n",
      "Average loss: 2.295206, Train accuracy: 0.189929, Val accuracy: 0.186335\n",
      "Average loss: 2.293125, Train accuracy: 0.189929, Val accuracy: 0.186335\n",
      "Average loss: 2.290972, Train accuracy: 0.189929, Val accuracy: 0.186335\n",
      "Cycle: 19 | LR: 0.0001 | REG: 1e-05\n",
      "Average loss: 2.309856, Train accuracy: 0.112002, Val accuracy: 0.116920\n",
      "Average loss: 2.307408, Train accuracy: 0.113964, Val accuracy: 0.116784\n",
      "Average loss: 2.305013, Train accuracy: 0.111985, Val accuracy: 0.114395\n",
      "Average loss: 2.302620, Train accuracy: 0.110944, Val accuracy: 0.113303\n",
      "Average loss: 2.300381, Train accuracy: 0.109545, Val accuracy: 0.113781\n",
      "Cycle: 20 | LR: 0.0001 | REG: 1e-07\n",
      "Average loss: 2.295192, Train accuracy: 0.132376, Val accuracy: 0.132209\n",
      "Average loss: 2.293436, Train accuracy: 0.141726, Val accuracy: 0.146065\n",
      "Average loss: 2.291738, Train accuracy: 0.156230, Val accuracy: 0.153778\n",
      "Average loss: 2.290107, Train accuracy: 0.167031, Val accuracy: 0.164221\n",
      "Average loss: 2.288396, Train accuracy: 0.176245, Val accuracy: 0.179919\n"
     ]
    }
   ],
   "source": [
    "# The key hyperparameters we're going to tune are learning speed, annealing rate and regularization\n",
    "# We also encourage you to try different optimizers as well\n",
    "\n",
    "Hyperparams = namedtuple(\"Hyperparams\", ['learning_rate', 'reg'])\n",
    "RunResult = namedtuple(\"RunResult\", ['model', 'train_history', 'val_history', 'final_val_accuracy'])\n",
    "\n",
    "learning_rates = [1e0, 1e-1, 1e-2, 1e-3, 1e-4]\n",
    "regularizers = [1e-3, 1e-4, 1e-5, 1e-7]\n",
    "\n",
    "batch_size = 64\n",
    "epoch_num = 5\n",
    "\n",
    "# Record all the runs here\n",
    "# Key should be Hyperparams and values should be RunResult\n",
    "run_record = {} \n",
    "\n",
    "# TODO: Use grid search or random search and record all runs in run_record dictionnary \n",
    "# Important: perform search in logarithmic space!\n",
    "i = 0\n",
    "for lr in learning_rates:\n",
    "    for reg in regularizers:\n",
    "        i += 1\n",
    "        print('Cycle: {0} | LR: {1} | REG: {2}'.format(i, lr, reg))\n",
    "\n",
    "        lenet_model = nn.Sequential(\n",
    "                        nn.Conv2d(3, 6, 5),\n",
    "                        nn.ReLU(inplace=True),\n",
    "                        nn.MaxPool2d(2),\n",
    "                        nn.Conv2d(6, 16, 5),\n",
    "                        nn.ReLU(inplace=True),\n",
    "                        nn.MaxPool2d(2),    \n",
    "                        Flattener(),\n",
    "                        nn.Linear(400, 120),\n",
    "                        nn.ReLU(inplace=True),\n",
    "                        nn.Linear(120, 84),\n",
    "                        nn.ReLU(inplace=True),\n",
    "                        nn.Linear(84, 10),\n",
    "                        nn.LogSoftmax(dim=-1)\n",
    "                  )\n",
    "\n",
    "        lenet_model.type(torch.cuda.FloatTensor)\n",
    "        lenet_model.to(device)\n",
    "\n",
    "        loss = nn.CrossEntropyLoss().type(torch.cuda.FloatTensor)\n",
    "        optimizer = optim.SGD(lenet_model.parameters(), lr=lr, weight_decay=reg)\n",
    "\n",
    "        loss_history, train_history, val_history = train_model(lenet_model,\n",
    "                                                               train_aug_loader, val_loader,\n",
    "                                                               loss, optimizer, epoch_num)\n",
    "\n",
    "        hp = Hyperparams(lr, reg)\n",
    "        rr = RunResult(lenet_model, loss_history, val_history, val_history[-1])\n",
    "        run_record[hp] = rr"
   ]
  },
  {
   "cell_type": "code",
   "execution_count": 22,
   "metadata": {
    "colab": {
     "base_uri": "https://localhost:8080/",
     "height": 34
    },
    "colab_type": "code",
    "id": "Y6xExdw8JB1l",
    "outputId": "a9ad86f8-3e29-45cc-d33f-e6170018a4ed"
   },
   "outputs": [
    {
     "name": "stdout",
     "output_type": "stream",
     "text": [
      "Best validation accuracy: 0.88, best hyperparams: Hyperparams(learning_rate=0.1, reg=1e-05)\n"
     ]
    }
   ],
   "source": [
    "best_val_accuracy = None\n",
    "best_hyperparams = None\n",
    "best_run = None\n",
    "\n",
    "for hyperparams, run_result in run_record.items():\n",
    "    if best_val_accuracy is None or best_val_accuracy < run_result.final_val_accuracy:\n",
    "        best_val_accuracy = run_result.final_val_accuracy\n",
    "        best_hyperparams = hyperparams\n",
    "        best_run = run_result\n",
    "        \n",
    "print(\"Best validation accuracy: %4.2f, best hyperparams: %s\" % (best_val_accuracy, best_hyperparams))"
   ]
  },
  {
   "cell_type": "markdown",
   "metadata": {
    "colab_type": "text",
    "id": "LOmsR0uVgtgf"
   },
   "source": [
    "# Свободное упражнение - догоним и перегоним LeNet!\n",
    "\n",
    "Попробуйте найти архитектуру и настройки тренировки, чтобы выступить лучше наших бейзлайнов.\n",
    "\n",
    "Что можно и нужно попробовать:\n",
    "- BatchNormalization (для convolution layers он в PyTorch называется [batchnorm2d](https://pytorch.org/docs/stable/nn.html#batchnorm2d))\n",
    "- Изменить количество слоев и их толщину\n",
    "- Изменять количество эпох тренировки\n",
    "- Попробовать и другие агментации"
   ]
  },
  {
   "cell_type": "code",
   "execution_count": 23,
   "metadata": {
    "colab": {},
    "colab_type": "code",
    "id": "tSVhD747icoc"
   },
   "outputs": [],
   "source": [
    "# TODO: Overtake LeNet!\n",
    "in_channels = 3\n",
    "conv1_channels = 18\n",
    "conv2_channels = 24\n",
    "kernel_size = 5\n",
    "linear1_size = 24*5*5\n",
    "linear2_size = 200\n",
    "num_output_classes = 10\n",
    "\n",
    "cnn_model = nn.Sequential(\n",
    "                nn.Conv2d(in_channels, conv1_channels, kernel_size),\n",
    "                nn.BatchNorm2d(conv1_channels),\n",
    "                nn.ReLU(inplace=True),\n",
    "                nn.MaxPool2d(2),\n",
    "                nn.Conv2d(conv1_channels, conv2_channels, kernel_size),\n",
    "                nn.BatchNorm2d(conv2_channels),\n",
    "                nn.ReLU(inplace=True),\n",
    "                nn.MaxPool2d(2),\n",
    "                Flattener(),\n",
    "                nn.Linear(linear1_size, linear2_size),\n",
    "                nn.BatchNorm1d(linear2_size),\n",
    "                nn.ReLU(inplace=True),\n",
    "                nn.Linear(linear2_size, num_output_classes)\n",
    "          )\n",
    "\n",
    "cnn_model.type(torch.cuda.FloatTensor)\n",
    "cnn_model.to(device)\n",
    "\n",
    "loss = nn.CrossEntropyLoss().type(torch.cuda.FloatTensor)\n",
    "#optimizer = optim.Adam(cnn_model.parameters(), lr=1e-2, weight_decay=1e-3, amsgrad=True)\n",
    "optimizer = optim.SGD(cnn_model.parameters(), lr=1e-2, weight_decay=1e-3)"
   ]
  },
  {
   "cell_type": "code",
   "execution_count": 26,
   "metadata": {},
   "outputs": [
    {
     "name": "stdout",
     "output_type": "stream",
     "text": [
      "Average loss: 1.641277, Train accuracy: 0.468246, Val accuracy: 0.723568\n",
      "Average loss: 0.869831, Train accuracy: 0.749736, Val accuracy: 0.822811\n",
      "Average loss: 0.683248, Train accuracy: 0.796164, Val accuracy: 0.851682\n",
      "Average loss: 0.604007, Train accuracy: 0.819285, Val accuracy: 0.860283\n",
      "Average loss: 0.558232, Train accuracy: 0.830529, Val accuracy: 0.872364\n",
      "Average loss: 0.519865, Train accuracy: 0.843173, Val accuracy: 0.880145\n",
      "Average loss: 0.494864, Train accuracy: 0.851005, Val accuracy: 0.884854\n",
      "Average loss: 0.471797, Train accuracy: 0.857967, Val accuracy: 0.886424\n",
      "Average loss: 0.452191, Train accuracy: 0.863000, Val accuracy: 0.892362\n",
      "Average loss: 0.438488, Train accuracy: 0.867300, Val accuracy: 0.895502\n",
      "Average loss: 0.426073, Train accuracy: 0.871941, Val accuracy: 0.896458\n",
      "Average loss: 0.415805, Train accuracy: 0.872846, Val accuracy: 0.902874\n",
      "Average loss: 0.402338, Train accuracy: 0.879381, Val accuracy: 0.904853\n",
      "Average loss: 0.394965, Train accuracy: 0.881275, Val accuracy: 0.901235\n",
      "Average loss: 0.386282, Train accuracy: 0.885114, Val accuracy: 0.904853\n"
     ]
    }
   ],
   "source": [
    "loss_history, train_history, val_history = train_model(cnn_model, train_aug_loader, val_loader, loss, optimizer, 15)"
   ]
  },
  {
   "cell_type": "code",
   "execution_count": 28,
   "metadata": {},
   "outputs": [
    {
     "name": "stdout",
     "output_type": "stream",
     "text": [
      "Average loss: 0.379044, Train accuracy: 0.885763, Val accuracy: 0.906764\n",
      "Average loss: 0.371103, Train accuracy: 0.889192, Val accuracy: 0.912429\n",
      "Average loss: 0.364103, Train accuracy: 0.891325, Val accuracy: 0.906491\n",
      "Average loss: 0.356349, Train accuracy: 0.892997, Val accuracy: 0.911405\n",
      "Average loss: 0.350616, Train accuracy: 0.896273, Val accuracy: 0.912839\n"
     ]
    }
   ],
   "source": [
    "# and 5 epochs more\n",
    "loss_history, train_history, val_history = train_model(cnn_model, train_aug_loader, val_loader, loss, optimizer, 5)"
   ]
  },
  {
   "cell_type": "markdown",
   "metadata": {
    "colab_type": "text",
    "id": "ubeKgBcnhx7N"
   },
   "source": [
    "# Финальный аккорд - проверим лучшую модель на test set\n",
    "\n",
    "В качестве разнообразия - напишите код для прогона модели на test set.\n",
    "\n",
    "В результате вы должны натренировать модель, которая покажет более **90%** точности на test set.  \n",
    "Как водится, лучший результат в группе получит дополнительные баллы!"
   ]
  },
  {
   "cell_type": "code",
   "execution_count": 29,
   "metadata": {
    "colab": {},
    "colab_type": "code",
    "id": "EIqM1kdeh-hd"
   },
   "outputs": [
    {
     "name": "stdout",
     "output_type": "stream",
     "text": [
      "Final test accuracy - 0.9062692071296865\n"
     ]
    }
   ],
   "source": [
    "# TODO Write the code to compute accuracy on test set\n",
    "test_loader = torch.utils.data.DataLoader(data_test, batch_size=batch_size)\n",
    "final_test_accuracy = compute_accuracy(cnn_model, test_loader)\n",
    "print(\"Final test accuracy -\", final_test_accuracy)"
   ]
  },
  {
   "cell_type": "code",
   "execution_count": null,
   "metadata": {},
   "outputs": [],
   "source": []
  }
 ],
 "metadata": {
  "accelerator": "GPU",
  "colab": {
   "collapsed_sections": [],
   "name": "PyTorch_CNN.ipynb",
   "provenance": [],
   "version": "0.3.2"
  },
  "kernelspec": {
   "display_name": "Python 3",
   "language": "python",
   "name": "python3"
  },
  "language_info": {
   "codemirror_mode": {
    "name": "ipython",
    "version": 3
   },
   "file_extension": ".py",
   "mimetype": "text/x-python",
   "name": "python",
   "nbconvert_exporter": "python",
   "pygments_lexer": "ipython3",
   "version": "3.7.1"
  }
 },
 "nbformat": 4,
 "nbformat_minor": 1
}
