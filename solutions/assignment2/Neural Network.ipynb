{
 "cells": [
  {
   "cell_type": "markdown",
   "metadata": {},
   "source": [
    "# Задание 2.1 - Нейронные сети\n",
    "\n",
    "В этом задании вы реализуете и натренируете настоящую нейроную сеть своими руками!\n",
    "\n",
    "В некотором смысле это будет расширением прошлого задания - нам нужно просто составить несколько линейных классификаторов вместе!\n",
    "\n",
    "<img src=\"https://i.redd.it/n9fgba8b0qr01.png\" alt=\"Stack_more_layers\" width=\"400px\"/>"
   ]
  },
  {
   "cell_type": "code",
   "execution_count": 13,
   "metadata": {},
   "outputs": [],
   "source": [
    "import sys\n",
    "sys.path.append('C:/Users/N1keFan/noteboook/dlcourse_ai')\n",
    "PATH_TO_DATA = 'D:/Py/DataFrames/dlcourse_ai/ass_2'"
   ]
  },
  {
   "cell_type": "code",
   "execution_count": 2,
   "metadata": {},
   "outputs": [],
   "source": [
    "import numpy as np\n",
    "import matplotlib.pyplot as plt\n",
    "\n",
    "%matplotlib inline\n",
    "\n",
    "%load_ext autoreload\n",
    "%autoreload 2"
   ]
  },
  {
   "cell_type": "code",
   "execution_count": 3,
   "metadata": {},
   "outputs": [],
   "source": [
    "from dataset import load_svhn, random_split_train_val\n",
    "from gradient_check import check_layer_gradient, check_layer_param_gradient, check_model_gradient\n",
    "from layers import FullyConnectedLayer, ReLULayer\n",
    "from model import TwoLayerNet\n",
    "from trainer import Trainer, Dataset\n",
    "from optim import SGD, MomentumSGD\n",
    "from metrics import multiclass_accuracy"
   ]
  },
  {
   "cell_type": "markdown",
   "metadata": {},
   "source": [
    "# Загружаем данные\n",
    "\n",
    "И разделяем их на training и validation."
   ]
  },
  {
   "cell_type": "code",
   "execution_count": 4,
   "metadata": {},
   "outputs": [],
   "source": [
    "def prepare_for_neural_network(train_X, test_X):\n",
    "    train_flat = train_X.reshape(train_X.shape[0], -1).astype(np.float) / 255.0\n",
    "    test_flat = test_X.reshape(test_X.shape[0], -1).astype(np.float) / 255.0\n",
    "    \n",
    "    # Subtract mean\n",
    "    mean_image = np.mean(train_flat, axis = 0)\n",
    "    train_flat -= mean_image\n",
    "    test_flat -= mean_image\n",
    "    \n",
    "    return train_flat, test_flat\n",
    "    \n",
    "train_X, train_y, test_X, test_y = load_svhn(PATH_TO_DATA, max_train=10000, max_test=1000)    \n",
    "train_X, test_X = prepare_for_neural_network(train_X, test_X)\n",
    "# Split train into train and val\n",
    "train_X, train_y, val_X, val_y = random_split_train_val(train_X, train_y, num_val = 1000)"
   ]
  },
  {
   "cell_type": "markdown",
   "metadata": {},
   "source": [
    "# Как всегда, начинаем с кирпичиков\n",
    "\n",
    "Мы будем реализовывать необходимые нам слои по очереди. Каждый слой должен реализовать:\n",
    "- прямой проход (forward pass), который генерирует выход слоя по входу и запоминает необходимые данные\n",
    "- обратный проход (backward pass), который получает градиент по выходу слоя и вычисляет градиент по входу и по параметрам\n",
    "\n",
    "Начнем с ReLU, у которого параметров нет."
   ]
  },
  {
   "cell_type": "code",
   "execution_count": 5,
   "metadata": {
    "scrolled": false
   },
   "outputs": [
    {
     "name": "stdout",
     "output_type": "stream",
     "text": [
      "Gradient check passed!\n"
     ]
    }
   ],
   "source": [
    "# TODO: Implement ReLULayer layer in layers.py\n",
    "# Note: you'll need to copy implementation of the gradient_check function from the previous assignment\n",
    "\n",
    "X = np.array([[1,-2,3],\n",
    "              [-1, 2, 0.1]\n",
    "              ])\n",
    "\n",
    "assert check_layer_gradient(ReLULayer(), X)"
   ]
  },
  {
   "cell_type": "markdown",
   "metadata": {},
   "source": [
    "А теперь реализуем полносвязный слой (fully connected layer), у которого будет два массива параметров: W (weights) и B (bias).\n",
    "\n",
    "Все наши слои будут использовать для параметров специальный класс `Param`, в котором будут храниться значения параметров и градиенты этих параметров, вычисляемые во время обратного прохода.\n",
    "\n",
    "Это даст возможность аккумулировать (суммировать) градиенты из разных частей функции потерь, например, из cross-entropy loss и regularization loss."
   ]
  },
  {
   "cell_type": "code",
   "execution_count": 6,
   "metadata": {},
   "outputs": [
    {
     "name": "stdout",
     "output_type": "stream",
     "text": [
      "Gradient check passed!\n",
      "Gradient check passed!\n",
      "Gradient check passed!\n"
     ]
    }
   ],
   "source": [
    "# TODO: Implement FullyConnected layer forward and backward methods\n",
    "assert check_layer_gradient(FullyConnectedLayer(3, 4), X)\n",
    "# TODO: Implement storing gradients for W and B\n",
    "assert check_layer_param_gradient(FullyConnectedLayer(3, 4), X, 'W')\n",
    "assert check_layer_param_gradient(FullyConnectedLayer(3, 4), X, 'B')"
   ]
  },
  {
   "cell_type": "markdown",
   "metadata": {},
   "source": [
    "## Создаем нейронную сеть\n",
    "\n",
    "Теперь мы реализуем простейшую нейронную сеть с двумя полносвязным слоями и нелинейностью ReLU. Реализуйте функцию `compute_loss_and_gradients`, она должна запустить прямой и обратный проход через оба слоя для вычисления градиентов.\n",
    "\n",
    "Не забудьте реализовать очистку градиентов в начале функции."
   ]
  },
  {
   "cell_type": "code",
   "execution_count": 7,
   "metadata": {},
   "outputs": [
    {
     "name": "stdout",
     "output_type": "stream",
     "text": [
      "Checking gradient for W1\n",
      "Gradient check passed!\n",
      "Checking gradient for B1\n",
      "Gradient check passed!\n",
      "Checking gradient for W2\n",
      "Gradient check passed!\n",
      "Checking gradient for B2\n",
      "Gradient check passed!\n"
     ]
    },
    {
     "data": {
      "text/plain": [
       "True"
      ]
     },
     "execution_count": 7,
     "metadata": {},
     "output_type": "execute_result"
    }
   ],
   "source": [
    "# TODO: In model.py, implement compute_loss_and_gradients function\n",
    "model = TwoLayerNet(n_input = train_X.shape[1], n_output = 10, hidden_layer_size = 3, reg = 0)\n",
    "loss = model.compute_loss_and_gradients(train_X[:2], train_y[:2])\n",
    "\n",
    "# TODO Now implement backward pass and aggregate all of the params\n",
    "check_model_gradient(model, train_X[:2], train_y[:2])"
   ]
  },
  {
   "cell_type": "markdown",
   "metadata": {},
   "source": [
    "Теперь добавьте к модели регуляризацию - она должна прибавляться к loss и делать свой вклад в градиенты."
   ]
  },
  {
   "cell_type": "code",
   "execution_count": 8,
   "metadata": {},
   "outputs": [
    {
     "name": "stdout",
     "output_type": "stream",
     "text": [
      "Checking gradient for W1\n",
      "Gradient check passed!\n",
      "Checking gradient for B1\n",
      "Gradient check passed!\n",
      "Checking gradient for W2\n",
      "Gradient check passed!\n",
      "Checking gradient for B2\n",
      "Gradient check passed!\n"
     ]
    },
    {
     "data": {
      "text/plain": [
       "True"
      ]
     },
     "execution_count": 8,
     "metadata": {},
     "output_type": "execute_result"
    }
   ],
   "source": [
    "# TODO Now implement l2 regularization in the forward and backward pass\n",
    "model_with_reg = TwoLayerNet(n_input = train_X.shape[1], n_output = 10, hidden_layer_size = 3, reg = 1e1)\n",
    "loss_with_reg = model_with_reg.compute_loss_and_gradients(train_X[:2], train_y[:2])\n",
    "assert loss_with_reg > loss and not np.isclose(loss_with_reg, loss), \\\n",
    "    \"Loss with regularization (%2.4f) should be higher than without it (%2.4f)!\" % (loss, loss_with_reg)\n",
    "\n",
    "check_model_gradient(model_with_reg, train_X[:2], train_y[:2])"
   ]
  },
  {
   "cell_type": "markdown",
   "metadata": {},
   "source": [
    "Также реализуем функцию предсказания (вычисления значения) модели на новых данных.\n",
    "\n",
    "Какое значение точности мы ожидаем увидеть до начала тренировки?"
   ]
  },
  {
   "cell_type": "code",
   "execution_count": 9,
   "metadata": {},
   "outputs": [
    {
     "data": {
      "text/plain": [
       "0.1"
      ]
     },
     "execution_count": 9,
     "metadata": {},
     "output_type": "execute_result"
    }
   ],
   "source": [
    "# Finally, implement predict function!\n",
    "\n",
    "# TODO: Implement predict function\n",
    "# What would be the value we expect?\n",
    "multiclass_accuracy(model_with_reg.predict(train_X[:30]), train_y[:30]) "
   ]
  },
  {
   "cell_type": "markdown",
   "metadata": {},
   "source": [
    "# Допишем код для процесса тренировки\n",
    "\n",
    "Если все реализовано корректно, значение функции ошибки должно уменьшаться с каждой эпохой, пусть и медленно. Не беспокойтесь пока про validation accuracy"
   ]
  },
  {
   "cell_type": "code",
   "execution_count": 10,
   "metadata": {},
   "outputs": [
    {
     "name": "stdout",
     "output_type": "stream",
     "text": [
      "Epoch: 0 Loss: 2.301697, Train accuracy: 0.196667, val accuracy: 0.206000\n",
      "Epoch: 1 Loss: 2.301563, Train accuracy: 0.196667, val accuracy: 0.206000\n",
      "Epoch: 2 Loss: 2.301360, Train accuracy: 0.196667, val accuracy: 0.206000\n",
      "Epoch: 3 Loss: 2.302570, Train accuracy: 0.196667, val accuracy: 0.206000\n",
      "Epoch: 4 Loss: 2.301918, Train accuracy: 0.196667, val accuracy: 0.206000\n",
      "Epoch: 5 Loss: 2.301294, Train accuracy: 0.196667, val accuracy: 0.206000\n",
      "Epoch: 6 Loss: 2.302912, Train accuracy: 0.196667, val accuracy: 0.206000\n",
      "Epoch: 7 Loss: 2.301883, Train accuracy: 0.196667, val accuracy: 0.206000\n",
      "Epoch: 8 Loss: 2.302292, Train accuracy: 0.196667, val accuracy: 0.206000\n",
      "Epoch: 9 Loss: 2.301837, Train accuracy: 0.196667, val accuracy: 0.206000\n",
      "Epoch: 10 Loss: 2.302072, Train accuracy: 0.196667, val accuracy: 0.206000\n",
      "Epoch: 11 Loss: 2.302662, Train accuracy: 0.196667, val accuracy: 0.206000\n",
      "Epoch: 12 Loss: 2.302661, Train accuracy: 0.196667, val accuracy: 0.206000\n",
      "Epoch: 13 Loss: 2.302380, Train accuracy: 0.196667, val accuracy: 0.206000\n",
      "Epoch: 14 Loss: 2.303170, Train accuracy: 0.196667, val accuracy: 0.206000\n",
      "Epoch: 15 Loss: 2.301802, Train accuracy: 0.196667, val accuracy: 0.206000\n",
      "Epoch: 16 Loss: 2.302476, Train accuracy: 0.196667, val accuracy: 0.206000\n",
      "Epoch: 17 Loss: 2.302480, Train accuracy: 0.196667, val accuracy: 0.206000\n",
      "Epoch: 18 Loss: 2.302157, Train accuracy: 0.196667, val accuracy: 0.206000\n",
      "Epoch: 19 Loss: 2.302318, Train accuracy: 0.196667, val accuracy: 0.206000\n"
     ]
    }
   ],
   "source": [
    "model = TwoLayerNet(n_input = train_X.shape[1], n_output = 10, hidden_layer_size = 100, reg = 1e1)\n",
    "dataset = Dataset(train_X, train_y, val_X, val_y)\n",
    "trainer = Trainer(model, dataset, SGD(), learning_rate=1e-2)\n",
    "\n",
    "# TODO Implement missing pieces in Trainer.fit function\n",
    "# You should expect loss to go down every epoch, even if it's slow\n",
    "loss_history, train_history, val_history = trainer.fit()"
   ]
  },
  {
   "cell_type": "code",
   "execution_count": 11,
   "metadata": {},
   "outputs": [
    {
     "data": {
      "image/png": "[encoded data removed]",
      "text/plain": [
       "<Figure size 432x288 with 1 Axes>"
      ]
     },
     "metadata": {
      "needs_background": "light"
     },
     "output_type": "display_data"
    }
   ],
   "source": [
    "plt.plot(train_history)\n",
    "plt.plot(val_history);"
   ]
  },
  {
   "cell_type": "markdown",
   "metadata": {},
   "source": [
    "# Улучшаем процесс тренировки\n",
    "\n",
    "Мы реализуем несколько ключевых оптимизаций, необходимых для тренировки современных нейросетей."
   ]
  },
  {
   "cell_type": "markdown",
   "metadata": {},
   "source": [
    "## Уменьшение скорости обучения (learning rate decay)\n",
    "\n",
    "Одна из необходимых оптимизаций во время тренировки нейронных сетей - постепенное уменьшение скорости обучения по мере тренировки.\n",
    "\n",
    "Один из стандартных методов - уменьшение скорости обучения (learning rate) каждые N эпох на коэффициент d (часто называемый decay). Значения N и d, как всегда, являются гиперпараметрами и должны подбираться на основе эффективности на проверочных данных (validation data). \n",
    "\n",
    "В нашем случае N будет равным 1."
   ]
  },
  {
   "cell_type": "code",
   "execution_count": 12,
   "metadata": {},
   "outputs": [
    {
     "name": "stdout",
     "output_type": "stream",
     "text": [
      "Loss: 2.320806, Train accuracy: 0.196667, val accuracy: 0.206000\n",
      "Loss: 2.330815, Train accuracy: 0.196667, val accuracy: 0.206000\n",
      "Loss: 2.301827, Train accuracy: 0.196667, val accuracy: 0.206000\n",
      "Loss: 2.304413, Train accuracy: 0.196667, val accuracy: 0.206000\n",
      "Loss: 2.286279, Train accuracy: 0.196667, val accuracy: 0.206000\n",
      "Loss: 2.284880, Train accuracy: 0.196667, val accuracy: 0.206000\n",
      "Loss: 2.262711, Train accuracy: 0.196667, val accuracy: 0.206000\n",
      "Loss: 2.311257, Train accuracy: 0.196667, val accuracy: 0.206000\n",
      "Loss: 2.306871, Train accuracy: 0.196667, val accuracy: 0.206000\n",
      "Loss: 2.304514, Train accuracy: 0.196667, val accuracy: 0.206000\n",
      "Loss: 2.265210, Train accuracy: 0.196667, val accuracy: 0.206000\n",
      "Loss: 2.289959, Train accuracy: 0.196667, val accuracy: 0.206000\n",
      "Loss: 2.325275, Train accuracy: 0.196667, val accuracy: 0.206000\n",
      "Loss: 2.246873, Train accuracy: 0.196667, val accuracy: 0.206000\n",
      "Loss: 2.338132, Train accuracy: 0.196667, val accuracy: 0.206000\n",
      "Loss: 2.275569, Train accuracy: 0.196667, val accuracy: 0.206000\n",
      "Loss: 2.301404, Train accuracy: 0.196667, val accuracy: 0.206000\n",
      "Loss: 2.274125, Train accuracy: 0.196667, val accuracy: 0.206000\n",
      "Loss: 2.277644, Train accuracy: 0.196667, val accuracy: 0.206000\n",
      "Loss: 2.271363, Train accuracy: 0.196667, val accuracy: 0.206000\n"
     ]
    }
   ],
   "source": [
    "# TODO Implement learning rate decay inside Trainer.fit method\n",
    "# Decay should happen once per epoch\n",
    "\n",
    "model = TwoLayerNet(n_input = train_X.shape[1], n_output = 10, hidden_layer_size = 100, reg = 1e-1)\n",
    "dataset = Dataset(train_X, train_y, val_X, val_y)\n",
    "trainer = Trainer(model, dataset, SGD(), learning_rate_decay=0.99)\n",
    "\n",
    "initial_learning_rate = trainer.learning_rate\n",
    "loss_history, train_history, val_history = trainer.fit()\n",
    "\n",
    "assert trainer.learning_rate < initial_learning_rate, \"Learning rate should've been reduced\"\n",
    "assert trainer.learning_rate > 0.5*initial_learning_rate, \"Learning rate shouldn'tve been reduced that much!\""
   ]
  },
  {
   "cell_type": "markdown",
   "metadata": {},
   "source": [
    "# Накопление импульса (Momentum SGD)\n",
    "\n",
    "Другой большой класс оптимизаций - использование более эффективных методов градиентного спуска. Мы реализуем один из них - накопление импульса (Momentum SGD).\n",
    "\n",
    "Этот метод хранит скорость движения, использует градиент для ее изменения на каждом шаге, и изменяет веса пропорционально значению скорости.\n",
    "(Физическая аналогия: Вместо скорости градиенты теперь будут задавать ускорение, но будет присутствовать сила трения.)\n",
    "\n",
    "```\n",
    "velocity = momentum * velocity - learning_rate * gradient \n",
    "w = w + velocity\n",
    "```\n",
    "\n",
    "`momentum` здесь коэффициент затухания, который тоже является гиперпараметром (к счастью, для него часто есть хорошее значение по умолчанию, типичный диапазон -- 0.8-0.99).\n",
    "\n",
    "Несколько полезных ссылок, где метод разбирается более подробно:  \n",
    "http://cs231n.github.io/neural-networks-3/#sgd  \n",
    "https://distill.pub/2017/momentum/"
   ]
  },
  {
   "cell_type": "code",
   "execution_count": 13,
   "metadata": {},
   "outputs": [
    {
     "name": "stdout",
     "output_type": "stream",
     "text": [
      "Loss: 2.322051, Train accuracy: 0.196667, val accuracy: 0.206000\n",
      "Loss: 2.308033, Train accuracy: 0.196667, val accuracy: 0.206000\n",
      "Loss: 2.317549, Train accuracy: 0.196667, val accuracy: 0.206000\n",
      "Loss: 2.262630, Train accuracy: 0.196667, val accuracy: 0.206000\n",
      "Loss: 2.270323, Train accuracy: 0.196667, val accuracy: 0.206000\n",
      "Loss: 2.308261, Train accuracy: 0.196667, val accuracy: 0.206000\n",
      "Loss: 2.264990, Train accuracy: 0.196667, val accuracy: 0.206000\n",
      "Loss: 2.278636, Train accuracy: 0.196667, val accuracy: 0.206000\n",
      "Loss: 2.267083, Train accuracy: 0.196667, val accuracy: 0.206000\n",
      "Loss: 2.279901, Train accuracy: 0.196667, val accuracy: 0.206000\n",
      "Loss: 2.276510, Train accuracy: 0.196667, val accuracy: 0.206000\n",
      "Loss: 2.314133, Train accuracy: 0.196667, val accuracy: 0.206000\n",
      "Loss: 2.256404, Train accuracy: 0.196667, val accuracy: 0.206000\n",
      "Loss: 2.295822, Train accuracy: 0.196667, val accuracy: 0.206000\n",
      "Loss: 2.290051, Train accuracy: 0.196667, val accuracy: 0.206000\n",
      "Loss: 2.278750, Train accuracy: 0.196667, val accuracy: 0.206000\n",
      "Loss: 2.280567, Train accuracy: 0.196667, val accuracy: 0.206000\n",
      "Loss: 2.255044, Train accuracy: 0.196667, val accuracy: 0.206000\n",
      "Loss: 2.240982, Train accuracy: 0.196667, val accuracy: 0.206000\n",
      "Loss: 2.315651, Train accuracy: 0.196667, val accuracy: 0.206000\n"
     ]
    }
   ],
   "source": [
    "# TODO: Implement MomentumSGD.update function in optim.py\n",
    "\n",
    "model = TwoLayerNet(n_input = train_X.shape[1], n_output = 10, hidden_layer_size = 100, reg = 1e-1)\n",
    "dataset = Dataset(train_X, train_y, val_X, val_y)\n",
    "trainer = Trainer(model, dataset, MomentumSGD(), learning_rate=1e-4, learning_rate_decay=0.99)\n",
    "\n",
    "# You should see even better results than before!\n",
    "loss_history, train_history, val_history = trainer.fit()"
   ]
  },
  {
   "cell_type": "markdown",
   "metadata": {},
   "source": [
    "# Ну что, давайте уже тренировать сеть!"
   ]
  },
  {
   "cell_type": "markdown",
   "metadata": {},
   "source": [
    "## Последний тест - переобучимся (overfit) на маленьком наборе данных\n",
    "\n",
    "Хороший способ проверить, все ли реализовано корректно - переобучить сеть на маленьком наборе данных.  \n",
    "Наша модель обладает достаточной мощностью, чтобы приблизить маленький набор данных идеально, поэтому мы ожидаем, что на нем мы быстро дойдем до 100% точности на тренировочном наборе. \n",
    "\n",
    "Если этого не происходит, то где-то была допущена ошибка!"
   ]
  },
  {
   "cell_type": "code",
   "execution_count": 14,
   "metadata": {},
   "outputs": [
    {
     "name": "stdout",
     "output_type": "stream",
     "text": [
      "Epoch: 0 Loss: 2.335695, Train accuracy: 0.200000, val accuracy: 0.066667\n",
      "Epoch: 20 Loss: 1.737018, Train accuracy: 0.400000, val accuracy: 0.000000\n",
      "Epoch: 40 Loss: 2.109903, Train accuracy: 0.666667, val accuracy: 0.066667\n",
      "Epoch: 60 Loss: 1.498011, Train accuracy: 0.733333, val accuracy: 0.066667\n",
      "Epoch: 80 Loss: 1.243702, Train accuracy: 0.800000, val accuracy: 0.066667\n",
      "Epoch: 100 Loss: 1.273957, Train accuracy: 0.866667, val accuracy: 0.000000\n",
      "Epoch: 120 Loss: 1.371929, Train accuracy: 1.000000, val accuracy: 0.000000\n",
      "Epoch: 140 Loss: 1.531043, Train accuracy: 1.000000, val accuracy: 0.000000\n"
     ]
    }
   ],
   "source": [
    "data_size = 15\n",
    "model = TwoLayerNet(n_input = train_X.shape[1], n_output = 10, hidden_layer_size = 100, reg = 1e-1)\n",
    "dataset = Dataset(train_X[:data_size], train_y[:data_size], val_X[:data_size], val_y[:data_size])\n",
    "trainer = Trainer(model, dataset, SGD(), learning_rate=1e-1, num_epochs=150, batch_size=5)\n",
    "\n",
    "# You should expect this to reach 1.0 training accuracy \n",
    "loss_history, train_history, val_history = trainer.fit()"
   ]
  },
  {
   "cell_type": "markdown",
   "metadata": {},
   "source": [
    "Теперь найдем гипепараметры, для которых этот процесс сходится быстрее.\n",
    "Если все реализовано корректно, то существуют параметры, при которых процесс сходится в **20** эпох или еще быстрее.\n",
    "Найдите их!"
   ]
  },
  {
   "cell_type": "code",
   "execution_count": 15,
   "metadata": {},
   "outputs": [
    {
     "name": "stdout",
     "output_type": "stream",
     "text": [
      "Epoch: 0 Loss: 2.304097, Train accuracy: 0.200000, val accuracy: 0.066667\n",
      "Epoch: 1 Loss: 2.281719, Train accuracy: 0.266667, val accuracy: 0.066667\n",
      "Epoch: 2 Loss: 2.255189, Train accuracy: 0.266667, val accuracy: 0.000000\n",
      "Epoch: 3 Loss: 2.225346, Train accuracy: 0.266667, val accuracy: 0.000000\n",
      "Epoch: 4 Loss: 2.170689, Train accuracy: 0.400000, val accuracy: 0.000000\n",
      "Epoch: 5 Loss: 2.014404, Train accuracy: 0.400000, val accuracy: 0.000000\n",
      "Epoch: 6 Loss: 1.821233, Train accuracy: 0.333333, val accuracy: 0.066667\n",
      "Epoch: 7 Loss: 1.688701, Train accuracy: 0.400000, val accuracy: 0.000000\n",
      "Epoch: 8 Loss: 1.642831, Train accuracy: 0.400000, val accuracy: 0.133333\n",
      "Epoch: 9 Loss: 1.564091, Train accuracy: 0.466667, val accuracy: 0.000000\n",
      "Epoch: 10 Loss: 1.336747, Train accuracy: 0.466667, val accuracy: 0.133333\n",
      "Epoch: 11 Loss: 1.234920, Train accuracy: 0.600000, val accuracy: 0.000000\n",
      "Epoch: 12 Loss: 1.247142, Train accuracy: 0.466667, val accuracy: 0.133333\n",
      "Epoch: 13 Loss: 1.394194, Train accuracy: 0.533333, val accuracy: 0.000000\n",
      "Epoch: 14 Loss: 1.036084, Train accuracy: 0.800000, val accuracy: 0.066667\n",
      "Epoch: 15 Loss: 0.790126, Train accuracy: 0.800000, val accuracy: 0.000000\n",
      "Epoch: 16 Loss: 0.675235, Train accuracy: 0.866667, val accuracy: 0.000000\n",
      "Epoch: 17 Loss: 0.569242, Train accuracy: 0.933333, val accuracy: 0.000000\n",
      "Epoch: 18 Loss: 0.485510, Train accuracy: 1.000000, val accuracy: 0.000000\n",
      "Epoch: 19 Loss: 0.408257, Train accuracy: 1.000000, val accuracy: 0.000000\n"
     ]
    }
   ],
   "source": [
    "# Now, tweak some hyper parameters and make it train to 1.0 accuracy in 20 epochs or less\n",
    "\n",
    "model = TwoLayerNet(n_input = train_X.shape[1], n_output = 10, hidden_layer_size = 100, reg = 5e-3)\n",
    "dataset = Dataset(train_X[:data_size], train_y[:data_size], val_X[:data_size], val_y[:data_size])\n",
    "# TODO: Change any hyperparamers or optimizators to reach training accuracy in 20 epochs\n",
    "trainer = Trainer(model, dataset, MomentumSGD(momentum=0.3), learning_rate=6e-1, num_epochs=20, batch_size=100)\n",
    "\n",
    "loss_history, train_history, val_history = trainer.fit()"
   ]
  },
  {
   "cell_type": "markdown",
   "metadata": {},
   "source": [
    "# Итак, основное мероприятие!\n",
    "\n",
    "Натренируйте лучшую нейросеть! Можно добавлять и изменять параметры, менять количество нейронов в слоях сети и как угодно экспериментировать. \n",
    "\n",
    "Добейтесь точности лучше **40%** на validation set."
   ]
  },
  {
   "cell_type": "code",
   "execution_count": 42,
   "metadata": {
    "scrolled": true
   },
   "outputs": [
    {
     "name": "stdout",
     "output_type": "stream",
     "text": [
      "\n",
      "Cycle 1...\n",
      "Epoch: 0 Loss: 2.291822, Train accuracy: 0.196667, val accuracy: 0.206000\n",
      "Epoch: 1 Loss: 2.292039, Train accuracy: 0.196667, val accuracy: 0.206000\n",
      "Epoch: 2 Loss: 2.288015, Train accuracy: 0.196667, val accuracy: 0.206000\n",
      "Epoch: 3 Loss: 2.278886, Train accuracy: 0.196667, val accuracy: 0.206000\n",
      "Epoch: 4 Loss: 2.279659, Train accuracy: 0.196667, val accuracy: 0.206000\n",
      "Epoch: 5 Loss: 2.270656, Train accuracy: 0.196667, val accuracy: 0.206000\n",
      "Epoch: 6 Loss: 2.307670, Train accuracy: 0.196667, val accuracy: 0.206000\n",
      "Epoch: 7 Loss: 2.256881, Train accuracy: 0.196667, val accuracy: 0.206000\n",
      "Epoch: 8 Loss: 2.268509, Train accuracy: 0.196667, val accuracy: 0.206000\n",
      "Epoch: 9 Loss: 2.293191, Train accuracy: 0.196667, val accuracy: 0.206000\n",
      "\n",
      "Cycle 2...\n",
      "Epoch: 0 Loss: 2.187485, Train accuracy: 0.196667, val accuracy: 0.206000\n",
      "Epoch: 1 Loss: 2.159175, Train accuracy: 0.196667, val accuracy: 0.206000\n",
      "Epoch: 2 Loss: 2.095600, Train accuracy: 0.222000, val accuracy: 0.228000\n",
      "Epoch: 3 Loss: 1.942806, Train accuracy: 0.252111, val accuracy: 0.259000\n",
      "Epoch: 4 Loss: 1.749732, Train accuracy: 0.378222, val accuracy: 0.373000\n",
      "Epoch: 5 Loss: 1.483352, Train accuracy: 0.446444, val accuracy: 0.434000\n",
      "Epoch: 6 Loss: 1.366608, Train accuracy: 0.524556, val accuracy: 0.512000\n",
      "Epoch: 7 Loss: 1.734789, Train accuracy: 0.580667, val accuracy: 0.593000\n",
      "Epoch: 8 Loss: 1.454085, Train accuracy: 0.582111, val accuracy: 0.594000\n",
      "Epoch: 9 Loss: 0.982763, Train accuracy: 0.644111, val accuracy: 0.636000\n",
      "\n",
      "Cycle 3...\n",
      "Epoch: 0 Loss: 2.261962, Train accuracy: 0.196667, val accuracy: 0.206000\n",
      "Epoch: 1 Loss: 2.215614, Train accuracy: 0.196667, val accuracy: 0.206000\n",
      "Epoch: 2 Loss: 2.272685, Train accuracy: 0.196667, val accuracy: 0.206000\n",
      "Epoch: 3 Loss: 2.236157, Train accuracy: 0.196667, val accuracy: 0.206000\n",
      "Epoch: 4 Loss: 2.230311, Train accuracy: 0.196667, val accuracy: 0.206000\n",
      "Epoch: 5 Loss: 2.256221, Train accuracy: 0.196667, val accuracy: 0.206000\n",
      "Epoch: 6 Loss: 2.210894, Train accuracy: 0.196667, val accuracy: 0.206000\n",
      "Epoch: 7 Loss: 2.032381, Train accuracy: 0.196667, val accuracy: 0.206000\n",
      "Epoch: 8 Loss: 2.193284, Train accuracy: 0.205444, val accuracy: 0.212000\n",
      "Epoch: 9 Loss: 2.062301, Train accuracy: 0.230222, val accuracy: 0.235000\n",
      "\n",
      "Cycle 4...\n",
      "Epoch: 0 Loss: 2.302124, Train accuracy: 0.114556, val accuracy: 0.148000\n",
      "Epoch: 1 Loss: 2.302014, Train accuracy: 0.196667, val accuracy: 0.206000\n",
      "Epoch: 2 Loss: 2.301571, Train accuracy: 0.196667, val accuracy: 0.206000\n",
      "Epoch: 3 Loss: 2.302777, Train accuracy: 0.196667, val accuracy: 0.206000\n",
      "Epoch: 4 Loss: 2.301681, Train accuracy: 0.196667, val accuracy: 0.206000\n",
      "Epoch: 5 Loss: 2.301709, Train accuracy: 0.196667, val accuracy: 0.206000\n",
      "Epoch: 6 Loss: 2.300383, Train accuracy: 0.196667, val accuracy: 0.206000\n",
      "Epoch: 7 Loss: 2.300219, Train accuracy: 0.196667, val accuracy: 0.206000\n",
      "Epoch: 8 Loss: 2.302394, Train accuracy: 0.196667, val accuracy: 0.206000\n",
      "Epoch: 9 Loss: 2.302045, Train accuracy: 0.196667, val accuracy: 0.206000\n",
      "\n",
      "Cycle 5...\n",
      "Epoch: 0 Loss: 2.278055, Train accuracy: 0.196667, val accuracy: 0.206000\n",
      "Epoch: 1 Loss: 2.288229, Train accuracy: 0.196667, val accuracy: 0.206000\n",
      "Epoch: 2 Loss: 2.283467, Train accuracy: 0.196667, val accuracy: 0.206000\n",
      "Epoch: 3 Loss: 2.297202, Train accuracy: 0.196667, val accuracy: 0.206000\n",
      "Epoch: 4 Loss: 2.245549, Train accuracy: 0.196667, val accuracy: 0.206000\n",
      "Epoch: 5 Loss: 2.298729, Train accuracy: 0.196667, val accuracy: 0.206000\n",
      "Epoch: 6 Loss: 2.298498, Train accuracy: 0.196667, val accuracy: 0.206000\n",
      "Epoch: 7 Loss: 2.238728, Train accuracy: 0.196667, val accuracy: 0.206000\n",
      "Epoch: 8 Loss: 2.234281, Train accuracy: 0.196667, val accuracy: 0.206000\n",
      "Epoch: 9 Loss: 2.183675, Train accuracy: 0.196667, val accuracy: 0.206000\n",
      "\n",
      "Cycle 6...\n",
      "Epoch: 0 Loss: 1.850776, Train accuracy: 0.358333, val accuracy: 0.366000\n",
      "Epoch: 1 Loss: 1.744563, Train accuracy: 0.556778, val accuracy: 0.553000\n",
      "Epoch: 2 Loss: 1.404570, Train accuracy: 0.584667, val accuracy: 0.557000\n",
      "Epoch: 3 Loss: 1.408805, Train accuracy: 0.667222, val accuracy: 0.626000\n",
      "Epoch: 4 Loss: 1.043087, Train accuracy: 0.697111, val accuracy: 0.644000\n",
      "Epoch: 5 Loss: 1.389338, Train accuracy: 0.655667, val accuracy: 0.618000\n",
      "Epoch: 6 Loss: 0.862506, Train accuracy: 0.691222, val accuracy: 0.645000\n",
      "Epoch: 7 Loss: 1.124095, Train accuracy: 0.719889, val accuracy: 0.662000\n",
      "Epoch: 8 Loss: 1.604788, Train accuracy: 0.709333, val accuracy: 0.655000\n",
      "Epoch: 9 Loss: 1.110833, Train accuracy: 0.737333, val accuracy: 0.640000\n",
      "\n",
      "Cycle 7...\n",
      "Epoch: 0 Loss: 2.265681, Train accuracy: 0.196667, val accuracy: 0.206000\n",
      "Epoch: 1 Loss: 2.247830, Train accuracy: 0.196667, val accuracy: 0.206000\n",
      "Epoch: 2 Loss: 2.239121, Train accuracy: 0.196667, val accuracy: 0.206000\n",
      "Epoch: 3 Loss: 2.232263, Train accuracy: 0.196667, val accuracy: 0.206000\n",
      "Epoch: 4 Loss: 2.239946, Train accuracy: 0.196667, val accuracy: 0.206000\n",
      "Epoch: 5 Loss: 2.218332, Train accuracy: 0.196667, val accuracy: 0.206000\n",
      "Epoch: 6 Loss: 2.257434, Train accuracy: 0.196667, val accuracy: 0.206000\n",
      "Epoch: 7 Loss: 2.271840, Train accuracy: 0.196667, val accuracy: 0.206000\n",
      "Epoch: 8 Loss: 2.244626, Train accuracy: 0.196667, val accuracy: 0.206000\n",
      "Epoch: 9 Loss: 2.181936, Train accuracy: 0.196667, val accuracy: 0.206000\n",
      "\n",
      "Cycle 8...\n",
      "Epoch: 0 Loss: 2.295520, Train accuracy: 0.196667, val accuracy: 0.206000\n",
      "Epoch: 1 Loss: 2.215020, Train accuracy: 0.196667, val accuracy: 0.206000\n",
      "Epoch: 2 Loss: 2.189889, Train accuracy: 0.196667, val accuracy: 0.206000\n",
      "Epoch: 3 Loss: 2.213241, Train accuracy: 0.196667, val accuracy: 0.206000\n",
      "Epoch: 4 Loss: 2.254686, Train accuracy: 0.196667, val accuracy: 0.206000\n",
      "Epoch: 5 Loss: 2.325113, Train accuracy: 0.196667, val accuracy: 0.206000\n",
      "Epoch: 6 Loss: 2.188714, Train accuracy: 0.196667, val accuracy: 0.206000\n",
      "Epoch: 7 Loss: 2.206420, Train accuracy: 0.196667, val accuracy: 0.206000\n",
      "Epoch: 8 Loss: 2.254005, Train accuracy: 0.196667, val accuracy: 0.206000\n",
      "Epoch: 9 Loss: 2.280989, Train accuracy: 0.196667, val accuracy: 0.206000\n",
      "\n",
      "Cycle 9...\n",
      "Epoch: 0 Loss: 2.302713, Train accuracy: 0.196667, val accuracy: 0.206000\n",
      "Epoch: 1 Loss: 2.300003, Train accuracy: 0.196667, val accuracy: 0.206000\n",
      "Epoch: 2 Loss: 2.300389, Train accuracy: 0.196667, val accuracy: 0.206000\n",
      "Epoch: 3 Loss: 2.298775, Train accuracy: 0.196667, val accuracy: 0.206000\n",
      "Epoch: 4 Loss: 2.295850, Train accuracy: 0.196667, val accuracy: 0.206000\n",
      "Epoch: 5 Loss: 2.297464, Train accuracy: 0.196667, val accuracy: 0.206000\n",
      "Epoch: 6 Loss: 2.299552, Train accuracy: 0.196667, val accuracy: 0.206000\n",
      "Epoch: 7 Loss: 2.298247, Train accuracy: 0.196667, val accuracy: 0.206000\n",
      "Epoch: 8 Loss: 2.291766, Train accuracy: 0.196667, val accuracy: 0.206000\n",
      "Epoch: 9 Loss: 2.276136, Train accuracy: 0.196667, val accuracy: 0.206000\n",
      "\n",
      "Cycle 10...\n",
      "Epoch: 0 Loss: 2.262580, Train accuracy: 0.196667, val accuracy: 0.206000\n",
      "Epoch: 1 Loss: 2.185646, Train accuracy: 0.196667, val accuracy: 0.206000\n",
      "Epoch: 2 Loss: 2.211295, Train accuracy: 0.196667, val accuracy: 0.206000\n",
      "Epoch: 3 Loss: 2.270711, Train accuracy: 0.196667, val accuracy: 0.206000\n",
      "Epoch: 4 Loss: 2.249140, Train accuracy: 0.196667, val accuracy: 0.206000\n",
      "Epoch: 5 Loss: 2.242374, Train accuracy: 0.196667, val accuracy: 0.206000\n",
      "Epoch: 6 Loss: 2.298476, Train accuracy: 0.196667, val accuracy: 0.206000\n",
      "Epoch: 7 Loss: 2.205464, Train accuracy: 0.196667, val accuracy: 0.206000\n",
      "Epoch: 8 Loss: 2.218693, Train accuracy: 0.196667, val accuracy: 0.206000\n",
      "Epoch: 9 Loss: 2.306516, Train accuracy: 0.196667, val accuracy: 0.206000\n",
      "\n",
      "Cycle 11...\n",
      "Epoch: 0 Loss: 2.296523, Train accuracy: 0.196667, val accuracy: 0.206000\n",
      "Epoch: 1 Loss: 2.293142, Train accuracy: 0.196667, val accuracy: 0.206000\n",
      "Epoch: 2 Loss: 2.295788, Train accuracy: 0.196667, val accuracy: 0.206000\n",
      "Epoch: 3 Loss: 2.287676, Train accuracy: 0.196667, val accuracy: 0.206000\n",
      "Epoch: 4 Loss: 2.273802, Train accuracy: 0.196667, val accuracy: 0.206000\n",
      "Epoch: 5 Loss: 2.290285, Train accuracy: 0.196667, val accuracy: 0.206000\n",
      "Epoch: 6 Loss: 2.273462, Train accuracy: 0.196667, val accuracy: 0.206000\n",
      "Epoch: 7 Loss: 2.266925, Train accuracy: 0.196667, val accuracy: 0.206000\n",
      "Epoch: 8 Loss: 2.289198, Train accuracy: 0.196667, val accuracy: 0.206000\n"
     ]
    },
    {
     "name": "stdout",
     "output_type": "stream",
     "text": [
      "Epoch: 9 Loss: 2.269946, Train accuracy: 0.196667, val accuracy: 0.206000\n",
      "\n",
      "Cycle 12...\n",
      "Epoch: 0 Loss: 2.296431, Train accuracy: 0.196667, val accuracy: 0.206000\n",
      "Epoch: 1 Loss: 2.291430, Train accuracy: 0.196667, val accuracy: 0.206000\n",
      "Epoch: 2 Loss: 2.282390, Train accuracy: 0.196667, val accuracy: 0.206000\n",
      "Epoch: 3 Loss: 2.276792, Train accuracy: 0.196667, val accuracy: 0.206000\n",
      "Epoch: 4 Loss: 2.287162, Train accuracy: 0.196667, val accuracy: 0.206000\n",
      "Epoch: 5 Loss: 2.272224, Train accuracy: 0.196667, val accuracy: 0.206000\n",
      "Epoch: 6 Loss: 2.287888, Train accuracy: 0.196667, val accuracy: 0.206000\n",
      "Epoch: 7 Loss: 2.290665, Train accuracy: 0.196667, val accuracy: 0.206000\n",
      "Epoch: 8 Loss: 2.275668, Train accuracy: 0.196667, val accuracy: 0.206000\n",
      "Epoch: 9 Loss: 2.232829, Train accuracy: 0.196667, val accuracy: 0.206000\n",
      "\n",
      "Cycle 13...\n",
      "Epoch: 0 Loss: 2.250769, Train accuracy: 0.196667, val accuracy: 0.206000\n",
      "Epoch: 1 Loss: 2.281485, Train accuracy: 0.196667, val accuracy: 0.206000\n",
      "Epoch: 2 Loss: 2.301640, Train accuracy: 0.196667, val accuracy: 0.206000\n",
      "Epoch: 3 Loss: 2.188978, Train accuracy: 0.244667, val accuracy: 0.248000\n",
      "Epoch: 4 Loss: 2.091338, Train accuracy: 0.281333, val accuracy: 0.287000\n",
      "Epoch: 5 Loss: 1.939886, Train accuracy: 0.371556, val accuracy: 0.380000\n",
      "Epoch: 6 Loss: 1.752119, Train accuracy: 0.445778, val accuracy: 0.449000\n",
      "Epoch: 7 Loss: 1.637509, Train accuracy: 0.514444, val accuracy: 0.488000\n",
      "Epoch: 8 Loss: 1.506808, Train accuracy: 0.564889, val accuracy: 0.567000\n",
      "Epoch: 9 Loss: 0.963003, Train accuracy: 0.621000, val accuracy: 0.603000\n",
      "\n",
      "Cycle 14...\n",
      "Epoch: 0 Loss: 2.285716, Train accuracy: 0.196667, val accuracy: 0.206000\n",
      "Epoch: 1 Loss: 2.279677, Train accuracy: 0.196667, val accuracy: 0.206000\n",
      "Epoch: 2 Loss: 2.291286, Train accuracy: 0.196667, val accuracy: 0.206000\n",
      "Epoch: 3 Loss: 2.216883, Train accuracy: 0.196667, val accuracy: 0.206000\n",
      "Epoch: 4 Loss: 2.241997, Train accuracy: 0.196667, val accuracy: 0.206000\n",
      "Epoch: 5 Loss: 2.319605, Train accuracy: 0.196667, val accuracy: 0.206000\n",
      "Epoch: 6 Loss: 2.334078, Train accuracy: 0.196667, val accuracy: 0.206000\n",
      "Epoch: 7 Loss: 2.305381, Train accuracy: 0.196667, val accuracy: 0.206000\n",
      "Epoch: 8 Loss: 2.264370, Train accuracy: 0.196667, val accuracy: 0.206000\n",
      "Epoch: 9 Loss: 2.259491, Train accuracy: 0.196667, val accuracy: 0.206000\n",
      "\n",
      "Cycle 15...\n",
      "Epoch: 0 Loss: 2.225395, Train accuracy: 0.196667, val accuracy: 0.206000\n",
      "Epoch: 1 Loss: 2.096634, Train accuracy: 0.196667, val accuracy: 0.206000\n",
      "Epoch: 2 Loss: 2.091459, Train accuracy: 0.262667, val accuracy: 0.254000\n",
      "Epoch: 3 Loss: 1.868844, Train accuracy: 0.323111, val accuracy: 0.329000\n",
      "Epoch: 4 Loss: 1.734016, Train accuracy: 0.444556, val accuracy: 0.438000\n",
      "Epoch: 5 Loss: 1.503322, Train accuracy: 0.513889, val accuracy: 0.504000\n",
      "Epoch: 6 Loss: 1.536367, Train accuracy: 0.523556, val accuracy: 0.536000\n",
      "Epoch: 7 Loss: 1.328787, Train accuracy: 0.620778, val accuracy: 0.605000\n",
      "Epoch: 8 Loss: 1.040181, Train accuracy: 0.660111, val accuracy: 0.628000\n",
      "Epoch: 9 Loss: 0.913119, Train accuracy: 0.647222, val accuracy: 0.656000\n"
     ]
    }
   ],
   "source": [
    "# Let's train the best one-hidden-layer network we can\n",
    "from random import choice\n",
    "\n",
    "n_iterations = 15\n",
    "num_epochs = 10\n",
    "learning_rates = [1e-4, 1e-3, 1e-2, 1e-1]\n",
    "reg_strength = [1e-6, 1e-4, 1e-2]\n",
    "learning_rate_decay = [0.888, 0.995, 0.999]\n",
    "hidden_layer_size = [64, 128, 256]\n",
    "batch_size = [64]\n",
    "momentums = [0.1, 0.3, 0.5, 0.7, 0.9]\n",
    "\n",
    "best_classifier = None\n",
    "best_val_accuracy = 0\n",
    "best_params = {}\n",
    "\n",
    "loss_history = []\n",
    "train_history = []\n",
    "val_history = []\n",
    "\n",
    "# TODO find the best hyperparameters to train the network\n",
    "# Don't hesitate to add new values to the arrays above, perform experiments, use any tricks you want\n",
    "# You should expect to get to at least 40% of valudation accuracy\n",
    "# Save loss/train/history of the best classifier to the variables above\n",
    "for i in range(0, n_iterations):    \n",
    "    lr = choice(learning_rates)\n",
    "    reg = choice(reg_strength)\n",
    "    lrd = choice(learning_rate_decay)\n",
    "    hs = choice(hidden_layer_size)\n",
    "    bs = choice(batch_size)\n",
    "    momentum = choice(momentums)\n",
    "    \n",
    "    model = TwoLayerNet(n_input=train_X.shape[1], n_output=10,\n",
    "                        hidden_layer_size=hs, reg=reg)\n",
    "    dataset = Dataset(train_X, train_y, val_X, val_y)\n",
    "    trainer = Trainer(model, dataset, MomentumSGD(momentum=momentum), learning_rate=lr,\n",
    "                      learning_rate_decay=lrd, num_epochs=num_epochs, batch_size=bs)\n",
    "    \n",
    "    print()\n",
    "    print (\"Cycle {}...\".format(i+1))\n",
    "    loss_hist, train_hist, val_hist = trainer.fit()\n",
    "    \n",
    "    if val_hist[-1] > best_val_accuracy:\n",
    "        best_val_accuracy = val_hist[-1]\n",
    "        best_classifier = model\n",
    "        \n",
    "        best_params['learning_rate'] = lr\n",
    "        best_params['reg_strength'] = reg\n",
    "        best_params['learning_rate_decay'] = lrd\n",
    "        best_params['hidden_layer_size'] = hs\n",
    "        best_params['batch_size'] = bs\n",
    "        best_params['momentum'] = momentum\n",
    "        \n",
    "        loss_history = loss_hist\n",
    "        train_history = train_hist\n",
    "        val_history = val_hist"
   ]
  },
  {
   "cell_type": "code",
   "execution_count": 43,
   "metadata": {},
   "outputs": [
    {
     "name": "stdout",
     "output_type": "stream",
     "text": [
      "Best params: {'learning_rate': 0.1, 'reg_strength': 0.0001, 'learning_rate_decay': 0.999, 'hidden_layer_size': 256, 'batch_size': 64, 'momentum': 0.1}\n",
      "best validation accuracy achieved: 0.656000\n"
     ]
    }
   ],
   "source": [
    "print('Best params:', best_params)\n",
    "print('best validation accuracy achieved: %f' % best_val_accuracy)"
   ]
  },
  {
   "cell_type": "code",
   "execution_count": 44,
   "metadata": {},
   "outputs": [
    {
     "data": {
      "image/png": "[encoded data removed]",
      "text/plain": [
       "<Figure size 504x504 with 2 Axes>"
      ]
     },
     "metadata": {
      "needs_background": "light"
     },
     "output_type": "display_data"
    }
   ],
   "source": [
    "plt.figure(figsize=(7, 7))\n",
    "plt.subplot(211)\n",
    "plt.title(\"Loss\")\n",
    "plt.plot(loss_history)\n",
    "plt.subplot(212)\n",
    "plt.title(\"Train/validation accuracy\")\n",
    "plt.plot(train_history)\n",
    "plt.plot(val_history);"
   ]
  },
  {
   "cell_type": "markdown",
   "metadata": {},
   "source": [
    "#### Как обычно, посмотрим, как наша лучшая модель работает на тестовых данных"
   ]
  },
  {
   "cell_type": "code",
   "execution_count": 45,
   "metadata": {},
   "outputs": [
    {
     "name": "stdout",
     "output_type": "stream",
     "text": [
      "Neural net test set accuracy: 0.564000\n"
     ]
    }
   ],
   "source": [
    "test_pred = best_classifier.predict(test_X)\n",
    "test_accuracy = multiclass_accuracy(test_pred, test_y)\n",
    "print('Neural net test set accuracy: %f' % (test_accuracy, ))"
   ]
  },
  {
   "cell_type": "code",
   "execution_count": null,
   "metadata": {},
   "outputs": [],
   "source": []
  }
 ],
 "metadata": {
  "kernelspec": {
   "display_name": "Python 3",
   "language": "python",
   "name": "python3"
  },
  "language_info": {
   "codemirror_mode": {
    "name": "ipython",
    "version": 3
   },
   "file_extension": ".py",
   "mimetype": "text/x-python",
   "name": "python",
   "nbconvert_exporter": "python",
   "pygments_lexer": "ipython3",
   "version": "3.7.1"
  }
 },
 "nbformat": 4,
 "nbformat_minor": 2
}
